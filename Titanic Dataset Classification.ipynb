{
 "cells": [
  {
   "cell_type": "code",
   "execution_count": 1,
   "metadata": {
    "collapsed": true
   },
   "outputs": [],
   "source": [
    "import numpy as np\n",
    "import pandas as pd\n",
    "from sklearn import svm\n",
    "from sklearn import model_selection\n",
    "from sklearn.linear_model import LogisticRegression\n",
    "from sklearn.model_selection import train_test_split\n",
    "from sklearn.model_selection import GridSearchCV\n",
    "from sklearn.neighbors import KNeighborsClassifier\n",
    "from sklearn.tree import DecisionTreeClassifier\n",
    "from sklearn.ensemble import RandomForestClassifier"
   ]
  },
  {
   "cell_type": "code",
   "execution_count": null,
   "metadata": {},
   "outputs": [],
   "source": []
  },
  {
   "cell_type": "markdown",
   "metadata": {
    "collapsed": true
   },
   "source": [
    "X_Y_train_l = pd.read_csv('titanic_x_y_train.csv', delimiter=',')\n",
    "X_test_l = pd.read_csv('titanic_x_test.csv', delimiter=',')\n"
   ]
  },
  {
   "cell_type": "code",
   "execution_count": 3,
   "metadata": {},
   "outputs": [
    {
     "name": "stdout",
     "output_type": "stream",
     "text": [
      "(668, 11)\n"
     ]
    },
    {
     "data": {
      "text/html": [
       "<div>\n",
       "<style>\n",
       "    .dataframe thead tr:only-child th {\n",
       "        text-align: right;\n",
       "    }\n",
       "\n",
       "    .dataframe thead th {\n",
       "        text-align: left;\n",
       "    }\n",
       "\n",
       "    .dataframe tbody tr th {\n",
       "        vertical-align: top;\n",
       "    }\n",
       "</style>\n",
       "<table border=\"1\" class=\"dataframe\">\n",
       "  <thead>\n",
       "    <tr style=\"text-align: right;\">\n",
       "      <th></th>\n",
       "      <th>Pclass</th>\n",
       "      <th>Name</th>\n",
       "      <th>Sex</th>\n",
       "      <th>Age</th>\n",
       "      <th>SibSp</th>\n",
       "      <th>Parch</th>\n",
       "      <th>Ticket</th>\n",
       "      <th>Fare</th>\n",
       "      <th>Cabin</th>\n",
       "      <th>Embarked</th>\n",
       "      <th>Survived</th>\n",
       "    </tr>\n",
       "  </thead>\n",
       "  <tbody>\n",
       "    <tr>\n",
       "      <th>0</th>\n",
       "      <td>1</td>\n",
       "      <td>Natsch, Mr. Charles H</td>\n",
       "      <td>male</td>\n",
       "      <td>37.0</td>\n",
       "      <td>0</td>\n",
       "      <td>1</td>\n",
       "      <td>PC 17596</td>\n",
       "      <td>29.7000</td>\n",
       "      <td>C118</td>\n",
       "      <td>C</td>\n",
       "      <td>0</td>\n",
       "    </tr>\n",
       "    <tr>\n",
       "      <th>1</th>\n",
       "      <td>3</td>\n",
       "      <td>O'Dwyer, Miss. Ellen \"Nellie\"</td>\n",
       "      <td>female</td>\n",
       "      <td>NaN</td>\n",
       "      <td>0</td>\n",
       "      <td>0</td>\n",
       "      <td>330959</td>\n",
       "      <td>7.8792</td>\n",
       "      <td>NaN</td>\n",
       "      <td>Q</td>\n",
       "      <td>1</td>\n",
       "    </tr>\n",
       "    <tr>\n",
       "      <th>2</th>\n",
       "      <td>2</td>\n",
       "      <td>West, Mrs. Edwy Arthur (Ada Mary Worth)</td>\n",
       "      <td>female</td>\n",
       "      <td>33.0</td>\n",
       "      <td>1</td>\n",
       "      <td>2</td>\n",
       "      <td>C.A. 34651</td>\n",
       "      <td>27.7500</td>\n",
       "      <td>NaN</td>\n",
       "      <td>S</td>\n",
       "      <td>1</td>\n",
       "    </tr>\n",
       "    <tr>\n",
       "      <th>3</th>\n",
       "      <td>3</td>\n",
       "      <td>Turkula, Mrs. (Hedwig)</td>\n",
       "      <td>female</td>\n",
       "      <td>63.0</td>\n",
       "      <td>0</td>\n",
       "      <td>0</td>\n",
       "      <td>4134</td>\n",
       "      <td>9.5875</td>\n",
       "      <td>NaN</td>\n",
       "      <td>S</td>\n",
       "      <td>1</td>\n",
       "    </tr>\n",
       "    <tr>\n",
       "      <th>4</th>\n",
       "      <td>3</td>\n",
       "      <td>Hagland, Mr. Ingvald Olai Olsen</td>\n",
       "      <td>male</td>\n",
       "      <td>NaN</td>\n",
       "      <td>1</td>\n",
       "      <td>0</td>\n",
       "      <td>65303</td>\n",
       "      <td>19.9667</td>\n",
       "      <td>NaN</td>\n",
       "      <td>S</td>\n",
       "      <td>0</td>\n",
       "    </tr>\n",
       "  </tbody>\n",
       "</table>\n",
       "</div>"
      ],
      "text/plain": [
       "   Pclass                                     Name     Sex   Age  SibSp  \\\n",
       "0       1                    Natsch, Mr. Charles H    male  37.0      0   \n",
       "1       3            O'Dwyer, Miss. Ellen \"Nellie\"  female   NaN      0   \n",
       "2       2  West, Mrs. Edwy Arthur (Ada Mary Worth)  female  33.0      1   \n",
       "3       3                   Turkula, Mrs. (Hedwig)  female  63.0      0   \n",
       "4       3          Hagland, Mr. Ingvald Olai Olsen    male   NaN      1   \n",
       "\n",
       "   Parch      Ticket     Fare Cabin Embarked  Survived  \n",
       "0      1    PC 17596  29.7000  C118        C         0  \n",
       "1      0      330959   7.8792   NaN        Q         1  \n",
       "2      2  C.A. 34651  27.7500   NaN        S         1  \n",
       "3      0        4134   9.5875   NaN        S         1  \n",
       "4      0       65303  19.9667   NaN        S         0  "
      ]
     },
     "execution_count": 3,
     "metadata": {},
     "output_type": "execute_result"
    }
   ],
   "source": [
    "print(X_Y_train_l.shape)\n",
    "X_Y_train_l.head()"
   ]
  },
  {
   "cell_type": "code",
   "execution_count": 4,
   "metadata": {},
   "outputs": [
    {
     "data": {
      "text/html": [
       "<div>\n",
       "<style>\n",
       "    .dataframe thead tr:only-child th {\n",
       "        text-align: right;\n",
       "    }\n",
       "\n",
       "    .dataframe thead th {\n",
       "        text-align: left;\n",
       "    }\n",
       "\n",
       "    .dataframe tbody tr th {\n",
       "        vertical-align: top;\n",
       "    }\n",
       "</style>\n",
       "<table border=\"1\" class=\"dataframe\">\n",
       "  <thead>\n",
       "    <tr style=\"text-align: right;\">\n",
       "      <th></th>\n",
       "      <th>Pclass</th>\n",
       "      <th>Name</th>\n",
       "      <th>Sex</th>\n",
       "      <th>Age</th>\n",
       "      <th>SibSp</th>\n",
       "      <th>Parch</th>\n",
       "      <th>Ticket</th>\n",
       "      <th>Fare</th>\n",
       "      <th>Cabin</th>\n",
       "      <th>Embarked</th>\n",
       "      <th>Survived</th>\n",
       "    </tr>\n",
       "  </thead>\n",
       "  <tbody>\n",
       "    <tr>\n",
       "      <th>count</th>\n",
       "      <td>668.000000</td>\n",
       "      <td>668</td>\n",
       "      <td>668</td>\n",
       "      <td>537.000000</td>\n",
       "      <td>668.000000</td>\n",
       "      <td>668.000000</td>\n",
       "      <td>668</td>\n",
       "      <td>668.000000</td>\n",
       "      <td>158</td>\n",
       "      <td>667</td>\n",
       "      <td>668.000000</td>\n",
       "    </tr>\n",
       "    <tr>\n",
       "      <th>unique</th>\n",
       "      <td>NaN</td>\n",
       "      <td>668</td>\n",
       "      <td>2</td>\n",
       "      <td>NaN</td>\n",
       "      <td>NaN</td>\n",
       "      <td>NaN</td>\n",
       "      <td>538</td>\n",
       "      <td>NaN</td>\n",
       "      <td>124</td>\n",
       "      <td>3</td>\n",
       "      <td>NaN</td>\n",
       "    </tr>\n",
       "    <tr>\n",
       "      <th>top</th>\n",
       "      <td>NaN</td>\n",
       "      <td>Quick, Mrs. Frederick Charles (Jane Richards)</td>\n",
       "      <td>male</td>\n",
       "      <td>NaN</td>\n",
       "      <td>NaN</td>\n",
       "      <td>NaN</td>\n",
       "      <td>1601</td>\n",
       "      <td>NaN</td>\n",
       "      <td>F2</td>\n",
       "      <td>S</td>\n",
       "      <td>NaN</td>\n",
       "    </tr>\n",
       "    <tr>\n",
       "      <th>freq</th>\n",
       "      <td>NaN</td>\n",
       "      <td>1</td>\n",
       "      <td>435</td>\n",
       "      <td>NaN</td>\n",
       "      <td>NaN</td>\n",
       "      <td>NaN</td>\n",
       "      <td>6</td>\n",
       "      <td>NaN</td>\n",
       "      <td>3</td>\n",
       "      <td>484</td>\n",
       "      <td>NaN</td>\n",
       "    </tr>\n",
       "    <tr>\n",
       "      <th>mean</th>\n",
       "      <td>2.293413</td>\n",
       "      <td>NaN</td>\n",
       "      <td>NaN</td>\n",
       "      <td>29.666052</td>\n",
       "      <td>0.483533</td>\n",
       "      <td>0.377246</td>\n",
       "      <td>NaN</td>\n",
       "      <td>33.413790</td>\n",
       "      <td>NaN</td>\n",
       "      <td>NaN</td>\n",
       "      <td>0.392216</td>\n",
       "    </tr>\n",
       "    <tr>\n",
       "      <th>std</th>\n",
       "      <td>0.845210</td>\n",
       "      <td>NaN</td>\n",
       "      <td>NaN</td>\n",
       "      <td>14.553571</td>\n",
       "      <td>1.053885</td>\n",
       "      <td>0.801922</td>\n",
       "      <td>NaN</td>\n",
       "      <td>52.964651</td>\n",
       "      <td>NaN</td>\n",
       "      <td>NaN</td>\n",
       "      <td>0.488610</td>\n",
       "    </tr>\n",
       "    <tr>\n",
       "      <th>min</th>\n",
       "      <td>1.000000</td>\n",
       "      <td>NaN</td>\n",
       "      <td>NaN</td>\n",
       "      <td>0.420000</td>\n",
       "      <td>0.000000</td>\n",
       "      <td>0.000000</td>\n",
       "      <td>NaN</td>\n",
       "      <td>0.000000</td>\n",
       "      <td>NaN</td>\n",
       "      <td>NaN</td>\n",
       "      <td>0.000000</td>\n",
       "    </tr>\n",
       "    <tr>\n",
       "      <th>25%</th>\n",
       "      <td>1.000000</td>\n",
       "      <td>NaN</td>\n",
       "      <td>NaN</td>\n",
       "      <td>20.000000</td>\n",
       "      <td>0.000000</td>\n",
       "      <td>0.000000</td>\n",
       "      <td>NaN</td>\n",
       "      <td>7.895800</td>\n",
       "      <td>NaN</td>\n",
       "      <td>NaN</td>\n",
       "      <td>0.000000</td>\n",
       "    </tr>\n",
       "    <tr>\n",
       "      <th>50%</th>\n",
       "      <td>3.000000</td>\n",
       "      <td>NaN</td>\n",
       "      <td>NaN</td>\n",
       "      <td>28.000000</td>\n",
       "      <td>0.000000</td>\n",
       "      <td>0.000000</td>\n",
       "      <td>NaN</td>\n",
       "      <td>14.456250</td>\n",
       "      <td>NaN</td>\n",
       "      <td>NaN</td>\n",
       "      <td>0.000000</td>\n",
       "    </tr>\n",
       "    <tr>\n",
       "      <th>75%</th>\n",
       "      <td>3.000000</td>\n",
       "      <td>NaN</td>\n",
       "      <td>NaN</td>\n",
       "      <td>38.000000</td>\n",
       "      <td>1.000000</td>\n",
       "      <td>0.000000</td>\n",
       "      <td>NaN</td>\n",
       "      <td>31.275000</td>\n",
       "      <td>NaN</td>\n",
       "      <td>NaN</td>\n",
       "      <td>1.000000</td>\n",
       "    </tr>\n",
       "    <tr>\n",
       "      <th>max</th>\n",
       "      <td>3.000000</td>\n",
       "      <td>NaN</td>\n",
       "      <td>NaN</td>\n",
       "      <td>80.000000</td>\n",
       "      <td>8.000000</td>\n",
       "      <td>6.000000</td>\n",
       "      <td>NaN</td>\n",
       "      <td>512.329200</td>\n",
       "      <td>NaN</td>\n",
       "      <td>NaN</td>\n",
       "      <td>1.000000</td>\n",
       "    </tr>\n",
       "  </tbody>\n",
       "</table>\n",
       "</div>"
      ],
      "text/plain": [
       "            Pclass                                           Name   Sex  \\\n",
       "count   668.000000                                            668   668   \n",
       "unique         NaN                                            668     2   \n",
       "top            NaN  Quick, Mrs. Frederick Charles (Jane Richards)  male   \n",
       "freq           NaN                                              1   435   \n",
       "mean      2.293413                                            NaN   NaN   \n",
       "std       0.845210                                            NaN   NaN   \n",
       "min       1.000000                                            NaN   NaN   \n",
       "25%       1.000000                                            NaN   NaN   \n",
       "50%       3.000000                                            NaN   NaN   \n",
       "75%       3.000000                                            NaN   NaN   \n",
       "max       3.000000                                            NaN   NaN   \n",
       "\n",
       "               Age       SibSp       Parch Ticket        Fare Cabin Embarked  \\\n",
       "count   537.000000  668.000000  668.000000    668  668.000000   158      667   \n",
       "unique         NaN         NaN         NaN    538         NaN   124        3   \n",
       "top            NaN         NaN         NaN   1601         NaN    F2        S   \n",
       "freq           NaN         NaN         NaN      6         NaN     3      484   \n",
       "mean     29.666052    0.483533    0.377246    NaN   33.413790   NaN      NaN   \n",
       "std      14.553571    1.053885    0.801922    NaN   52.964651   NaN      NaN   \n",
       "min       0.420000    0.000000    0.000000    NaN    0.000000   NaN      NaN   \n",
       "25%      20.000000    0.000000    0.000000    NaN    7.895800   NaN      NaN   \n",
       "50%      28.000000    0.000000    0.000000    NaN   14.456250   NaN      NaN   \n",
       "75%      38.000000    1.000000    0.000000    NaN   31.275000   NaN      NaN   \n",
       "max      80.000000    8.000000    6.000000    NaN  512.329200   NaN      NaN   \n",
       "\n",
       "          Survived  \n",
       "count   668.000000  \n",
       "unique         NaN  \n",
       "top            NaN  \n",
       "freq           NaN  \n",
       "mean      0.392216  \n",
       "std       0.488610  \n",
       "min       0.000000  \n",
       "25%       0.000000  \n",
       "50%       0.000000  \n",
       "75%       1.000000  \n",
       "max       1.000000  "
      ]
     },
     "execution_count": 4,
     "metadata": {},
     "output_type": "execute_result"
    }
   ],
   "source": [
    "X_Y_train_l.describe(include='all')"
   ]
  },
  {
   "cell_type": "code",
   "execution_count": 5,
   "metadata": {},
   "outputs": [
    {
     "data": {
      "text/plain": [
       "Pclass        0\n",
       "Name          0\n",
       "Sex           0\n",
       "Age         131\n",
       "SibSp         0\n",
       "Parch         0\n",
       "Ticket        0\n",
       "Fare          0\n",
       "Cabin       510\n",
       "Embarked      1\n",
       "Survived      0\n",
       "dtype: int64"
      ]
     },
     "execution_count": 5,
     "metadata": {},
     "output_type": "execute_result"
    }
   ],
   "source": [
    "X_Y_train_l.isnull().sum()"
   ]
  },
  {
   "cell_type": "code",
   "execution_count": 6,
   "metadata": {},
   "outputs": [
    {
     "data": {
      "text/html": [
       "<div>\n",
       "<style>\n",
       "    .dataframe thead tr:only-child th {\n",
       "        text-align: right;\n",
       "    }\n",
       "\n",
       "    .dataframe thead th {\n",
       "        text-align: left;\n",
       "    }\n",
       "\n",
       "    .dataframe tbody tr th {\n",
       "        vertical-align: top;\n",
       "    }\n",
       "</style>\n",
       "<table border=\"1\" class=\"dataframe\">\n",
       "  <thead>\n",
       "    <tr style=\"text-align: right;\">\n",
       "      <th></th>\n",
       "      <th>Pclass</th>\n",
       "      <th>Sex</th>\n",
       "      <th>Age</th>\n",
       "      <th>SibSp</th>\n",
       "      <th>Parch</th>\n",
       "      <th>Embarked</th>\n",
       "      <th>Survived</th>\n",
       "    </tr>\n",
       "  </thead>\n",
       "  <tbody>\n",
       "    <tr>\n",
       "      <th>0</th>\n",
       "      <td>1</td>\n",
       "      <td>male</td>\n",
       "      <td>37.0</td>\n",
       "      <td>0</td>\n",
       "      <td>1</td>\n",
       "      <td>C</td>\n",
       "      <td>0</td>\n",
       "    </tr>\n",
       "    <tr>\n",
       "      <th>1</th>\n",
       "      <td>3</td>\n",
       "      <td>female</td>\n",
       "      <td>NaN</td>\n",
       "      <td>0</td>\n",
       "      <td>0</td>\n",
       "      <td>Q</td>\n",
       "      <td>1</td>\n",
       "    </tr>\n",
       "    <tr>\n",
       "      <th>2</th>\n",
       "      <td>2</td>\n",
       "      <td>female</td>\n",
       "      <td>33.0</td>\n",
       "      <td>1</td>\n",
       "      <td>2</td>\n",
       "      <td>S</td>\n",
       "      <td>1</td>\n",
       "    </tr>\n",
       "    <tr>\n",
       "      <th>3</th>\n",
       "      <td>3</td>\n",
       "      <td>female</td>\n",
       "      <td>63.0</td>\n",
       "      <td>0</td>\n",
       "      <td>0</td>\n",
       "      <td>S</td>\n",
       "      <td>1</td>\n",
       "    </tr>\n",
       "    <tr>\n",
       "      <th>4</th>\n",
       "      <td>3</td>\n",
       "      <td>male</td>\n",
       "      <td>NaN</td>\n",
       "      <td>1</td>\n",
       "      <td>0</td>\n",
       "      <td>S</td>\n",
       "      <td>0</td>\n",
       "    </tr>\n",
       "  </tbody>\n",
       "</table>\n",
       "</div>"
      ],
      "text/plain": [
       "   Pclass     Sex   Age  SibSp  Parch Embarked  Survived\n",
       "0       1    male  37.0      0      1        C         0\n",
       "1       3  female   NaN      0      0        Q         1\n",
       "2       2  female  33.0      1      2        S         1\n",
       "3       3  female  63.0      0      0        S         1\n",
       "4       3    male   NaN      1      0        S         0"
      ]
     },
     "execution_count": 6,
     "metadata": {},
     "output_type": "execute_result"
    }
   ],
   "source": [
    "del X_Y_train_l[\"Name\"]\n",
    "del X_Y_train_l[\"Ticket\"]\n",
    "del X_Y_train_l[\"Cabin\"]\n",
    "del X_Y_train_l[\"Fare\"]\n",
    "X_Y_train_l.head()"
   ]
  },
  {
   "cell_type": "code",
   "execution_count": 7,
   "metadata": {
    "collapsed": true
   },
   "outputs": [],
   "source": [
    "del X_test_l[\"Name\"]\n",
    "del X_test_l[\"Ticket\"]\n",
    "del X_test_l[\"Cabin\"]\n",
    "del X_test_l[\"Fare\"]"
   ]
  },
  {
   "cell_type": "code",
   "execution_count": 8,
   "metadata": {},
   "outputs": [
    {
     "name": "stdout",
     "output_type": "stream",
     "text": [
      "Pclass        0\n",
      "Sex           0\n",
      "Age         131\n",
      "SibSp         0\n",
      "Parch         0\n",
      "Embarked      1\n",
      "Survived      0\n",
      "dtype: int64\n",
      "(668, 7)\n",
      "Pclass      0\n",
      "Sex         0\n",
      "Age         0\n",
      "SibSp       0\n",
      "Parch       0\n",
      "Embarked    1\n",
      "Survived    0\n",
      "dtype: int64\n"
     ]
    },
    {
     "data": {
      "text/plain": [
       "(668, 7)"
      ]
     },
     "execution_count": 8,
     "metadata": {},
     "output_type": "execute_result"
    }
   ],
   "source": [
    "print(X_Y_train_l.isnull().sum())\n",
    "print(X_Y_train_l.shape)\n",
    "X_Y_train_l = X_Y_train_l.fillna(X_Y_train_l.median())\n",
    "print(X_Y_train_l.isnull().sum())\n",
    "X_Y_train_l.shape"
   ]
  },
  {
   "cell_type": "code",
   "execution_count": 9,
   "metadata": {},
   "outputs": [
    {
     "name": "stdout",
     "output_type": "stream",
     "text": [
      "Pclass      0\n",
      "Sex         0\n",
      "Age         0\n",
      "SibSp       0\n",
      "Parch       0\n",
      "Embarked    0\n",
      "Survived    0\n",
      "dtype: int64\n"
     ]
    },
    {
     "data": {
      "text/plain": [
       "(667, 7)"
      ]
     },
     "execution_count": 9,
     "metadata": {},
     "output_type": "execute_result"
    }
   ],
   "source": [
    "X_Y_train_l.dropna(inplace=True)\n",
    "print(X_Y_train_l.isnull().sum())\n",
    "X_Y_train_l.shape"
   ]
  },
  {
   "cell_type": "code",
   "execution_count": 10,
   "metadata": {},
   "outputs": [
    {
     "name": "stdout",
     "output_type": "stream",
     "text": [
      "(667, 6)\n",
      "(667,)\n",
      "0      0\n",
      "1      1\n",
      "2      1\n",
      "3      1\n",
      "4      0\n",
      "5      1\n",
      "6      0\n",
      "7      1\n",
      "8      0\n",
      "9      0\n",
      "10     1\n",
      "11     1\n",
      "12     0\n",
      "13     0\n",
      "14     1\n",
      "15     1\n",
      "16     0\n",
      "17     0\n",
      "18     1\n",
      "19     0\n",
      "20     1\n",
      "21     0\n",
      "22     1\n",
      "23     0\n",
      "24     0\n",
      "25     1\n",
      "26     1\n",
      "27     0\n",
      "28     0\n",
      "29     0\n",
      "      ..\n",
      "638    1\n",
      "639    0\n",
      "640    0\n",
      "641    1\n",
      "642    1\n",
      "643    0\n",
      "644    0\n",
      "645    0\n",
      "646    0\n",
      "647    1\n",
      "648    1\n",
      "649    0\n",
      "650    0\n",
      "651    0\n",
      "652    0\n",
      "653    0\n",
      "654    1\n",
      "655    0\n",
      "656    1\n",
      "657    0\n",
      "658    1\n",
      "659    1\n",
      "660    0\n",
      "661    0\n",
      "662    0\n",
      "663    0\n",
      "664    0\n",
      "665    1\n",
      "666    0\n",
      "667    1\n",
      "Name: Survived, Length: 667, dtype: int64\n"
     ]
    }
   ],
   "source": [
    "X_train_l = X_Y_train_l.iloc[:,:X_Y_train_l.shape[1]-1]\n",
    "print(X_train_l.shape)\n",
    "Y_train_l = X_Y_train_l.iloc[:,-1]\n",
    "print(Y_train_l.shape)\n",
    "print(Y_train_l)"
   ]
  },
  {
   "cell_type": "code",
   "execution_count": 11,
   "metadata": {},
   "outputs": [
    {
     "name": "stdout",
     "output_type": "stream",
     "text": [
      "     Pclass     Sex   Age  SibSp  Parch Embarked  gender\n",
      "0         1    male  37.0      0      1        C       1\n",
      "1         3  female  28.0      0      0        Q       2\n",
      "2         2  female  33.0      1      2        S       2\n",
      "3         3  female  63.0      0      0        S       2\n",
      "4         3    male  28.0      1      0        S       1\n",
      "5         2  female  29.0      0      0        S       2\n",
      "6         3    male  28.0      0      0        C       1\n",
      "7         3  female  28.0      0      0        C       2\n",
      "8         3    male  28.0      0      0        S       1\n",
      "9         1    male  29.0      1      0        S       1\n",
      "10        3  female  22.0      0      0        S       2\n",
      "11        3    male  28.0      1      1        C       1\n",
      "12        3    male  30.0      0      0        S       1\n",
      "13        1    male  58.0      0      0        C       1\n",
      "14        3    male  39.0      0      0        S       1\n",
      "15        1  female  22.0      0      0        S       2\n",
      "16        3    male  55.5      0      0        S       1\n",
      "17        3    male  19.0      0      0        S       1\n",
      "18        1    male  56.0      0      0        C       1\n",
      "19        3    male  20.0      0      0        S       1\n",
      "20        1    male  28.0      0      0        S       1\n",
      "21        3    male  28.0      0      0        Q       1\n",
      "22        3  female  28.0      1      0        S       2\n",
      "23        3    male  24.0      0      0        S       1\n",
      "24        2    male  47.0      0      0        S       1\n",
      "25        2  female   6.0      0      1        S       2\n",
      "26        1  female  54.0      1      0        C       2\n",
      "27        2    male  32.0      2      0        S       1\n",
      "28        1    male  46.0      0      0        C       1\n",
      "29        2    male  66.0      0      0        S       1\n",
      "..      ...     ...   ...    ...    ...      ...     ...\n",
      "638       1  female  36.0      1      2        S       2\n",
      "639       3  female  28.0      3      1        S       2\n",
      "640       3    male  25.0      1      0        S       1\n",
      "641       3  female  18.0      0      1        S       2\n",
      "642       1    male  25.0      1      0        C       1\n",
      "643       3    male  17.0      0      0        S       1\n",
      "644       3    male  44.0      0      0        S       1\n",
      "645       3    male  59.0      0      0        S       1\n",
      "646       3    male   4.0      4      1        Q       1\n",
      "647       3    male  28.0      0      0        S       1\n",
      "648       1  female  58.0      0      0        C       2\n",
      "649       3    male  19.0      0      0        S       1\n",
      "650       3    male  47.0      0      0        S       1\n",
      "651       3    male  28.5      0      0        S       1\n",
      "652       1    male  19.0      3      2        S       1\n",
      "653       1    male  50.0      1      0        C       1\n",
      "654       3    male  28.0      0      0        Q       1\n",
      "655       3  female  28.0      0      0        S       2\n",
      "656       1  female  19.0      0      2        S       2\n",
      "657       3    male  35.0      0      0        C       1\n",
      "658       3  female  28.0      0      0        Q       2\n",
      "659       3    male  12.0      1      0        C       1\n",
      "660       2    male  60.0      1      1        S       1\n",
      "661       3    male  20.5      0      0        S       1\n",
      "662       3    male  28.0      0      0        S       1\n",
      "663       3  female  28.0      0      2        Q       2\n",
      "664       3  female  28.0      0      2        C       2\n",
      "665       2  female  24.0      0      2        S       2\n",
      "666       3    male  28.0      0      0        C       1\n",
      "667       2  female  36.0      0      0        S       2\n",
      "\n",
      "[667 rows x 7 columns]\n"
     ]
    },
    {
     "data": {
      "text/html": [
       "<div>\n",
       "<style>\n",
       "    .dataframe thead tr:only-child th {\n",
       "        text-align: right;\n",
       "    }\n",
       "\n",
       "    .dataframe thead th {\n",
       "        text-align: left;\n",
       "    }\n",
       "\n",
       "    .dataframe tbody tr th {\n",
       "        vertical-align: top;\n",
       "    }\n",
       "</style>\n",
       "<table border=\"1\" class=\"dataframe\">\n",
       "  <thead>\n",
       "    <tr style=\"text-align: right;\">\n",
       "      <th></th>\n",
       "      <th>Pclass</th>\n",
       "      <th>Age</th>\n",
       "      <th>SibSp</th>\n",
       "      <th>Parch</th>\n",
       "      <th>Embarked</th>\n",
       "      <th>gender</th>\n",
       "    </tr>\n",
       "  </thead>\n",
       "  <tbody>\n",
       "    <tr>\n",
       "      <th>0</th>\n",
       "      <td>1</td>\n",
       "      <td>37.0</td>\n",
       "      <td>0</td>\n",
       "      <td>1</td>\n",
       "      <td>C</td>\n",
       "      <td>1</td>\n",
       "    </tr>\n",
       "    <tr>\n",
       "      <th>1</th>\n",
       "      <td>3</td>\n",
       "      <td>28.0</td>\n",
       "      <td>0</td>\n",
       "      <td>0</td>\n",
       "      <td>Q</td>\n",
       "      <td>2</td>\n",
       "    </tr>\n",
       "    <tr>\n",
       "      <th>2</th>\n",
       "      <td>2</td>\n",
       "      <td>33.0</td>\n",
       "      <td>1</td>\n",
       "      <td>2</td>\n",
       "      <td>S</td>\n",
       "      <td>2</td>\n",
       "    </tr>\n",
       "    <tr>\n",
       "      <th>3</th>\n",
       "      <td>3</td>\n",
       "      <td>63.0</td>\n",
       "      <td>0</td>\n",
       "      <td>0</td>\n",
       "      <td>S</td>\n",
       "      <td>2</td>\n",
       "    </tr>\n",
       "    <tr>\n",
       "      <th>4</th>\n",
       "      <td>3</td>\n",
       "      <td>28.0</td>\n",
       "      <td>1</td>\n",
       "      <td>0</td>\n",
       "      <td>S</td>\n",
       "      <td>1</td>\n",
       "    </tr>\n",
       "  </tbody>\n",
       "</table>\n",
       "</div>"
      ],
      "text/plain": [
       "   Pclass   Age  SibSp  Parch Embarked  gender\n",
       "0       1  37.0      0      1        C       1\n",
       "1       3  28.0      0      0        Q       2\n",
       "2       2  33.0      1      2        S       2\n",
       "3       3  63.0      0      0        S       2\n",
       "4       3  28.0      1      0        S       1"
      ]
     },
     "execution_count": 11,
     "metadata": {},
     "output_type": "execute_result"
    }
   ],
   "source": [
    "def getNumber(str):\n",
    "    if str==\"male\":\n",
    "        return 1\n",
    "    else:\n",
    "        return 2\n",
    "X_train_l['gender']=X_train_l[\"Sex\"].apply(getNumber)\n",
    "print(X_train_l)\n",
    "del X_train_l[\"Sex\"]\n",
    "X_train_l.head()"
   ]
  },
  {
   "cell_type": "code",
   "execution_count": 12,
   "metadata": {},
   "outputs": [
    {
     "name": "stdout",
     "output_type": "stream",
     "text": [
      "     Pclass     Sex    Age  SibSp  Parch Embarked  gender\n",
      "0         3  female  40.00      1      0        S       2\n",
      "1         3    male  28.00      0      0        S       1\n",
      "2         3  female   9.00      4      2        S       2\n",
      "3         3  female  18.00      0      0        S       2\n",
      "4         3    male  20.00      0      0        C       1\n",
      "5         3    male  16.00      0      0        S       1\n",
      "6         1  female    NaN      1      0        S       2\n",
      "7         2    male  44.00      1      0        S       1\n",
      "8         1  female  38.00      0      0      NaN       2\n",
      "9         1    male  64.00      1      4        S       1\n",
      "10        2    male    NaN      0      0        C       1\n",
      "11        3    male  19.00      0      0        S       1\n",
      "12        1  female  18.00      2      2        C       2\n",
      "13        3    male  17.00      1      1        C       1\n",
      "14        2    male   8.00      1      1        S       1\n",
      "15        1    male  24.00      0      0        C       1\n",
      "16        2    male   0.67      1      1        S       1\n",
      "17        3    male  28.00      0      0        S       1\n",
      "18        3    male    NaN      1      0        Q       1\n",
      "19        1  female  63.00      1      0        S       2\n",
      "20        3    male    NaN      0      0        Q       1\n",
      "21        3  female  17.00      4      2        S       2\n",
      "22        3    male    NaN      0      0        S       1\n",
      "23        3    male    NaN      0      0        C       1\n",
      "24        1    male    NaN      0      0        S       1\n",
      "25        2  female  30.00      3      0        S       2\n",
      "26        3    male    NaN      0      0        Q       1\n",
      "27        3    male  21.00      0      0        S       1\n",
      "28        3    male  22.00      0      0        C       1\n",
      "29        2  female  40.00      0      0        S       2\n",
      "..      ...     ...    ...    ...    ...      ...     ...\n",
      "193       2    male    NaN      0      0        C       1\n",
      "194       3    male  24.50      0      0        S       1\n",
      "195       2    male  34.00      1      0        S       1\n",
      "196       3    male  30.00      0      0        C       1\n",
      "197       3  female  45.00      0      0        S       2\n",
      "198       2  female  24.00      2      3        S       2\n",
      "199       3  female  26.00      0      0        S       2\n",
      "200       3    male  43.00      0      0        S       1\n",
      "201       1    male    NaN      0      0        S       1\n",
      "202       3  female   2.00      4      2        S       2\n",
      "203       2    male  43.00      1      1        S       1\n",
      "204       3    male  18.00      1      1        S       1\n",
      "205       3  female    NaN      0      0        Q       2\n",
      "206       3    male  21.00      0      0        S       1\n",
      "207       2    male  34.00      1      0        S       1\n",
      "208       1  female  52.00      1      1        S       2\n",
      "209       2  female   8.00      0      2        S       2\n",
      "210       2  female  42.00      1      0        S       2\n",
      "211       3    male    NaN      3      1        S       1\n",
      "212       1  female  53.00      2      0        S       2\n",
      "213       1    male  65.00      0      0        S       1\n",
      "214       3    male  29.00      0      0        S       1\n",
      "215       2    male  42.00      1      0        S       1\n",
      "216       3    male    NaN      0      0        Q       1\n",
      "217       3  female    NaN      0      0        Q       2\n",
      "218       3    male  26.00      1      0        C       1\n",
      "219       2    male  30.00      0      0        S       1\n",
      "220       3  female  20.00      1      0        S       2\n",
      "221       2  female    NaN      0      0        Q       2\n",
      "222       1    male  36.00      1      2        S       1\n",
      "\n",
      "[223 rows x 7 columns]\n"
     ]
    },
    {
     "data": {
      "text/html": [
       "<div>\n",
       "<style>\n",
       "    .dataframe thead tr:only-child th {\n",
       "        text-align: right;\n",
       "    }\n",
       "\n",
       "    .dataframe thead th {\n",
       "        text-align: left;\n",
       "    }\n",
       "\n",
       "    .dataframe tbody tr th {\n",
       "        vertical-align: top;\n",
       "    }\n",
       "</style>\n",
       "<table border=\"1\" class=\"dataframe\">\n",
       "  <thead>\n",
       "    <tr style=\"text-align: right;\">\n",
       "      <th></th>\n",
       "      <th>Pclass</th>\n",
       "      <th>Age</th>\n",
       "      <th>SibSp</th>\n",
       "      <th>Parch</th>\n",
       "      <th>Embarked</th>\n",
       "      <th>gender</th>\n",
       "    </tr>\n",
       "  </thead>\n",
       "  <tbody>\n",
       "    <tr>\n",
       "      <th>0</th>\n",
       "      <td>3</td>\n",
       "      <td>40.0</td>\n",
       "      <td>1</td>\n",
       "      <td>0</td>\n",
       "      <td>S</td>\n",
       "      <td>2</td>\n",
       "    </tr>\n",
       "    <tr>\n",
       "      <th>1</th>\n",
       "      <td>3</td>\n",
       "      <td>28.0</td>\n",
       "      <td>0</td>\n",
       "      <td>0</td>\n",
       "      <td>S</td>\n",
       "      <td>1</td>\n",
       "    </tr>\n",
       "    <tr>\n",
       "      <th>2</th>\n",
       "      <td>3</td>\n",
       "      <td>9.0</td>\n",
       "      <td>4</td>\n",
       "      <td>2</td>\n",
       "      <td>S</td>\n",
       "      <td>2</td>\n",
       "    </tr>\n",
       "    <tr>\n",
       "      <th>3</th>\n",
       "      <td>3</td>\n",
       "      <td>18.0</td>\n",
       "      <td>0</td>\n",
       "      <td>0</td>\n",
       "      <td>S</td>\n",
       "      <td>2</td>\n",
       "    </tr>\n",
       "    <tr>\n",
       "      <th>4</th>\n",
       "      <td>3</td>\n",
       "      <td>20.0</td>\n",
       "      <td>0</td>\n",
       "      <td>0</td>\n",
       "      <td>C</td>\n",
       "      <td>1</td>\n",
       "    </tr>\n",
       "  </tbody>\n",
       "</table>\n",
       "</div>"
      ],
      "text/plain": [
       "   Pclass   Age  SibSp  Parch Embarked  gender\n",
       "0       3  40.0      1      0        S       2\n",
       "1       3  28.0      0      0        S       1\n",
       "2       3   9.0      4      2        S       2\n",
       "3       3  18.0      0      0        S       2\n",
       "4       3  20.0      0      0        C       1"
      ]
     },
     "execution_count": 12,
     "metadata": {},
     "output_type": "execute_result"
    }
   ],
   "source": [
    "X_test_l['gender']=X_test_l[\"Sex\"].apply(getNumber)\n",
    "print(X_test_l)\n",
    "del X_test_l[\"Sex\"]\n",
    "X_test_l.head()"
   ]
  },
  {
   "cell_type": "code",
   "execution_count": 13,
   "metadata": {
    "collapsed": true
   },
   "outputs": [],
   "source": [
    "def getNumberEmbarked(str):\n",
    "    if str=='C':\n",
    "        return 1\n",
    "    elif str=='Q':\n",
    "        return 2\n",
    "    else:\n",
    "        return 3"
   ]
  },
  {
   "cell_type": "code",
   "execution_count": 14,
   "metadata": {},
   "outputs": [
    {
     "name": "stdout",
     "output_type": "stream",
     "text": [
      "     Pclass    Age  SibSp  Parch  Embarked  gender\n",
      "0         3  40.00      1      0         3       2\n",
      "1         3  28.00      0      0         3       1\n",
      "2         3   9.00      4      2         3       2\n",
      "3         3  18.00      0      0         3       2\n",
      "4         3  20.00      0      0         1       1\n",
      "5         3  16.00      0      0         3       1\n",
      "6         1    NaN      1      0         3       2\n",
      "7         2  44.00      1      0         3       1\n",
      "8         1  38.00      0      0         3       2\n",
      "9         1  64.00      1      4         3       1\n",
      "10        2    NaN      0      0         1       1\n",
      "11        3  19.00      0      0         3       1\n",
      "12        1  18.00      2      2         1       2\n",
      "13        3  17.00      1      1         1       1\n",
      "14        2   8.00      1      1         3       1\n",
      "15        1  24.00      0      0         1       1\n",
      "16        2   0.67      1      1         3       1\n",
      "17        3  28.00      0      0         3       1\n",
      "18        3    NaN      1      0         2       1\n",
      "19        1  63.00      1      0         3       2\n",
      "20        3    NaN      0      0         2       1\n",
      "21        3  17.00      4      2         3       2\n",
      "22        3    NaN      0      0         3       1\n",
      "23        3    NaN      0      0         1       1\n",
      "24        1    NaN      0      0         3       1\n",
      "25        2  30.00      3      0         3       2\n",
      "26        3    NaN      0      0         2       1\n",
      "27        3  21.00      0      0         3       1\n",
      "28        3  22.00      0      0         1       1\n",
      "29        2  40.00      0      0         3       2\n",
      "..      ...    ...    ...    ...       ...     ...\n",
      "193       2    NaN      0      0         1       1\n",
      "194       3  24.50      0      0         3       1\n",
      "195       2  34.00      1      0         3       1\n",
      "196       3  30.00      0      0         1       1\n",
      "197       3  45.00      0      0         3       2\n",
      "198       2  24.00      2      3         3       2\n",
      "199       3  26.00      0      0         3       2\n",
      "200       3  43.00      0      0         3       1\n",
      "201       1    NaN      0      0         3       1\n",
      "202       3   2.00      4      2         3       2\n",
      "203       2  43.00      1      1         3       1\n",
      "204       3  18.00      1      1         3       1\n",
      "205       3    NaN      0      0         2       2\n",
      "206       3  21.00      0      0         3       1\n",
      "207       2  34.00      1      0         3       1\n",
      "208       1  52.00      1      1         3       2\n",
      "209       2   8.00      0      2         3       2\n",
      "210       2  42.00      1      0         3       2\n",
      "211       3    NaN      3      1         3       1\n",
      "212       1  53.00      2      0         3       2\n",
      "213       1  65.00      0      0         3       1\n",
      "214       3  29.00      0      0         3       1\n",
      "215       2  42.00      1      0         3       1\n",
      "216       3    NaN      0      0         2       1\n",
      "217       3    NaN      0      0         2       2\n",
      "218       3  26.00      1      0         1       1\n",
      "219       2  30.00      0      0         3       1\n",
      "220       3  20.00      1      0         3       2\n",
      "221       2    NaN      0      0         2       2\n",
      "222       1  36.00      1      2         3       1\n",
      "\n",
      "[223 rows x 6 columns]\n"
     ]
    }
   ],
   "source": [
    "X_test_l['Embarked']=X_test_l[\"Embarked\"].apply(getNumberEmbarked)\n",
    "X_train_l['Embarked']=X_train_l[\"Embarked\"].apply(getNumberEmbarked)\n",
    "print(X_test_l)"
   ]
  },
  {
   "cell_type": "code",
   "execution_count": 15,
   "metadata": {},
   "outputs": [
    {
     "name": "stdout",
     "output_type": "stream",
     "text": [
      "Pclass       0\n",
      "Age         46\n",
      "SibSp        0\n",
      "Parch        0\n",
      "Embarked     0\n",
      "gender       0\n",
      "dtype: int64\n"
     ]
    },
    {
     "data": {
      "text/plain": [
       "Pclass      0\n",
       "Age         0\n",
       "SibSp       0\n",
       "Parch       0\n",
       "Embarked    0\n",
       "gender      0\n",
       "dtype: int64"
      ]
     },
     "execution_count": 15,
     "metadata": {},
     "output_type": "execute_result"
    }
   ],
   "source": [
    "print(X_test_l.isnull().sum())\n",
    "X_test_l = X_test_l.fillna(X_test_l.median())\n",
    "X_test_l.isnull().sum()"
   ]
  },
  {
   "cell_type": "code",
   "execution_count": 16,
   "metadata": {
    "collapsed": true
   },
   "outputs": [],
   "source": [
    "from sklearn import preprocessing\n",
    "#X_train_l = preprocessing.scale(X_train_l)\n",
    "#X_train_l"
   ]
  },
  {
   "cell_type": "markdown",
   "metadata": {},
   "source": [
    "### Logistic Regression"
   ]
  },
  {
   "cell_type": "code",
   "execution_count": 17,
   "metadata": {
    "collapsed": true
   },
   "outputs": [],
   "source": [
    "clf_LR = LogisticRegression()"
   ]
  },
  {
   "cell_type": "code",
   "execution_count": 18,
   "metadata": {},
   "outputs": [
    {
     "data": {
      "text/plain": [
       "GridSearchCV(cv=KFold(n_splits=10, random_state=1, shuffle=True),\n",
       "       error_score='raise',\n",
       "       estimator=LogisticRegression(C=1.0, class_weight=None, dual=False, fit_intercept=True,\n",
       "          intercept_scaling=1, max_iter=100, multi_class='ovr', n_jobs=1,\n",
       "          penalty='l2', random_state=None, solver='liblinear', tol=0.0001,\n",
       "          verbose=0, warm_start=False),\n",
       "       fit_params=None, iid=True, n_jobs=1,\n",
       "       param_grid={'C': [100000, 10000, 1000, 100, 10, 1, 0.1, 0.01, 0.001, 0.0001], 'max_iter': [10, 100]},\n",
       "       pre_dispatch='2*n_jobs', refit=True, return_train_score='warn',\n",
       "       scoring=None, verbose=0)"
      ]
     },
     "execution_count": 18,
     "metadata": {},
     "output_type": "execute_result"
    }
   ],
   "source": [
    "grid_LR = {\"C\" : [10**-i for i in range(-5, 5)],\"max_iter\":[10**i for i in range(1, 3)]}\n",
    "grid_search_LR = GridSearchCV(clf_LR, grid_LR,cv=model_selection.KFold(n_splits=10,shuffle=True,random_state=1))\n",
    "grid_search_LR.fit(X_train_l, Y_train_l)"
   ]
  },
  {
   "cell_type": "code",
   "execution_count": 19,
   "metadata": {},
   "outputs": [
    {
     "data": {
      "text/plain": [
       "LogisticRegression(C=100000, class_weight=None, dual=False,\n",
       "          fit_intercept=True, intercept_scaling=1, max_iter=10,\n",
       "          multi_class='ovr', n_jobs=1, penalty='l2', random_state=None,\n",
       "          solver='liblinear', tol=0.0001, verbose=0, warm_start=False)"
      ]
     },
     "execution_count": 19,
     "metadata": {},
     "output_type": "execute_result"
    }
   ],
   "source": [
    "grid_search_LR.best_estimator_"
   ]
  },
  {
   "cell_type": "markdown",
   "metadata": {},
   "source": [
    "### KNN"
   ]
  },
  {
   "cell_type": "code",
   "execution_count": 20,
   "metadata": {},
   "outputs": [
    {
     "data": {
      "text/plain": [
       "GridSearchCV(cv=KFold(n_splits=10, random_state=1, shuffle=True),\n",
       "       error_score='raise',\n",
       "       estimator=KNeighborsClassifier(algorithm='auto', leaf_size=30, metric='minkowski',\n",
       "           metric_params=None, n_jobs=1, n_neighbors=5, p=2,\n",
       "           weights='uniform'),\n",
       "       fit_params=None, iid=True, n_jobs=1,\n",
       "       param_grid={'n_neighbors': [3, 5, 7, 9, 11]},\n",
       "       pre_dispatch='2*n_jobs', refit=True, return_train_score='warn',\n",
       "       scoring=None, verbose=0)"
      ]
     },
     "execution_count": 20,
     "metadata": {},
     "output_type": "execute_result"
    }
   ],
   "source": [
    "clf_KN = KNeighborsClassifier()\n",
    "grid_KN = {\"n_neighbors\":[3,5,7,9,11]}\n",
    "grid_search_KN = GridSearchCV(clf_KN, grid_KN,cv=model_selection.KFold(n_splits=10,shuffle=True,random_state=1))\n",
    "grid_search_KN.fit(X_train_l, Y_train_l)"
   ]
  },
  {
   "cell_type": "code",
   "execution_count": 21,
   "metadata": {},
   "outputs": [
    {
     "data": {
      "text/plain": [
       "KNeighborsClassifier(algorithm='auto', leaf_size=30, metric='minkowski',\n",
       "           metric_params=None, n_jobs=1, n_neighbors=3, p=2,\n",
       "           weights='uniform')"
      ]
     },
     "execution_count": 21,
     "metadata": {},
     "output_type": "execute_result"
    }
   ],
   "source": [
    "grid_search_KN.best_estimator_"
   ]
  },
  {
   "cell_type": "markdown",
   "metadata": {},
   "source": [
    "### SVM"
   ]
  },
  {
   "cell_type": "code",
   "execution_count": 23,
   "metadata": {},
   "outputs": [
    {
     "data": {
      "text/plain": [
       "GridSearchCV(cv=KFold(n_splits=10, random_state=1, shuffle=True),\n",
       "       error_score='raise',\n",
       "       estimator=SVC(C=1.0, cache_size=200, class_weight=None, coef0=0.0,\n",
       "  decision_function_shape='ovr', degree=3, gamma='auto', kernel='rbf',\n",
       "  max_iter=-1, probability=False, random_state=None, shrinking=True,\n",
       "  tol=0.001, verbose=False),\n",
       "       fit_params=None, iid=True, n_jobs=1,\n",
       "       param_grid={'C': [100.0, 1000.0, 5000.0, 10000.0], 'gamma': [0.001, 0.0005, 0.0001]},\n",
       "       pre_dispatch='2*n_jobs', refit=True, return_train_score='warn',\n",
       "       scoring=None, verbose=0)"
      ]
     },
     "execution_count": 23,
     "metadata": {},
     "output_type": "execute_result"
    }
   ],
   "source": [
    "clf_SVC = svm.SVC()\n",
    "grid_SVC = {'C' : [1e2, 1e3, 5e3, 1e4],\n",
    "       'gamma' : [1e-3, 5e-4, 1e-4]}\n",
    "grid_search_SVC = GridSearchCV(clf_SVC, grid_SVC,cv=model_selection.KFold(n_splits=10,shuffle=True,random_state=1))\n",
    "grid_search_SVC.fit(X_train_l, Y_train_l)"
   ]
  },
  {
   "cell_type": "code",
   "execution_count": 24,
   "metadata": {},
   "outputs": [
    {
     "data": {
      "text/plain": [
       "SVC(C=5000.0, cache_size=200, class_weight=None, coef0=0.0,\n",
       "  decision_function_shape='ovr', degree=3, gamma=0.001, kernel='rbf',\n",
       "  max_iter=-1, probability=False, random_state=None, shrinking=True,\n",
       "  tol=0.001, verbose=False)"
      ]
     },
     "execution_count": 24,
     "metadata": {},
     "output_type": "execute_result"
    }
   ],
   "source": [
    "grid_search_SVC.best_estimator_"
   ]
  },
  {
   "cell_type": "markdown",
   "metadata": {},
   "source": [
    "### Decision Tree"
   ]
  },
  {
   "cell_type": "code",
   "execution_count": 26,
   "metadata": {},
   "outputs": [
    {
     "data": {
      "text/plain": [
       "GridSearchCV(cv=KFold(n_splits=10, random_state=1, shuffle=True),\n",
       "       error_score='raise',\n",
       "       estimator=DecisionTreeClassifier(class_weight=None, criterion='entropy', max_depth=None,\n",
       "            max_features=None, max_leaf_nodes=None,\n",
       "            min_impurity_decrease=0.0, min_impurity_split=None,\n",
       "            min_samples_leaf=1, min_samples_split=2,\n",
       "            min_weight_fraction_leaf=0.0, presort=False, random_state=None,\n",
       "            splitter='best'),\n",
       "       fit_params=None, iid=True, n_jobs=1,\n",
       "       param_grid={'min_samples_split': [2, 5, 10, 15, 20, 25, 30], 'max_depth': [10, 15, 20, 25, 30, 35], 'min_impurity_decrease': [0.01, 0.001, 0.0001]},\n",
       "       pre_dispatch='2*n_jobs', refit=True, return_train_score='warn',\n",
       "       scoring=None, verbose=0)"
      ]
     },
     "execution_count": 26,
     "metadata": {},
     "output_type": "execute_result"
    }
   ],
   "source": [
    "clf_DT = DecisionTreeClassifier(criterion=\"entropy\",splitter=\"best\")\n",
    "grid_DT = {'min_samples_split':[2,5,10,15,20,25,30],'max_depth':[10,15,20,25,30,35],\n",
    "           'min_impurity_decrease':[10**-i for i in range(2, 5)]}\n",
    "grid_search_DT = GridSearchCV(clf_DT, grid_DT,cv=model_selection.KFold(n_splits=10,shuffle=True,random_state=1))\n",
    "grid_search_DT.fit(X_train_l, Y_train_l)"
   ]
  },
  {
   "cell_type": "code",
   "execution_count": 27,
   "metadata": {},
   "outputs": [
    {
     "data": {
      "text/plain": [
       "DecisionTreeClassifier(class_weight=None, criterion='entropy', max_depth=15,\n",
       "            max_features=None, max_leaf_nodes=None,\n",
       "            min_impurity_decrease=0.001, min_impurity_split=None,\n",
       "            min_samples_leaf=1, min_samples_split=20,\n",
       "            min_weight_fraction_leaf=0.0, presort=False, random_state=None,\n",
       "            splitter='best')"
      ]
     },
     "execution_count": 27,
     "metadata": {},
     "output_type": "execute_result"
    }
   ],
   "source": [
    "grid_search_DT.best_estimator_"
   ]
  },
  {
   "cell_type": "markdown",
   "metadata": {},
   "source": [
    "### Random Forests"
   ]
  },
  {
   "cell_type": "code",
   "execution_count": 29,
   "metadata": {},
   "outputs": [
    {
     "data": {
      "text/plain": [
       "GridSearchCV(cv=KFold(n_splits=10, random_state=1, shuffle=True),\n",
       "       error_score='raise',\n",
       "       estimator=RandomForestClassifier(bootstrap=True, class_weight=None, criterion='entropy',\n",
       "            max_depth=None, max_features='auto', max_leaf_nodes=None,\n",
       "            min_impurity_decrease=0.0, min_impurity_split=None,\n",
       "            min_samples_leaf=1, min_samples_split=2,\n",
       "            min_weight_fraction_leaf=0.0, n_estimators=10, n_jobs=1,\n",
       "            oob_score=False, random_state=None, verbose=0,\n",
       "            warm_start=False),\n",
       "       fit_params=None, iid=True, n_jobs=1,\n",
       "       param_grid={'n_estimators': [5, 10, 15, 20, 25], 'max_depth': [10, 15, 20, 25, 30, 35]},\n",
       "       pre_dispatch='2*n_jobs', refit=True, return_train_score='warn',\n",
       "       scoring=None, verbose=0)"
      ]
     },
     "execution_count": 29,
     "metadata": {},
     "output_type": "execute_result"
    }
   ],
   "source": [
    "clf_RF = RandomForestClassifier(criterion='entropy')\n",
    "grid_RF ={'n_estimators':[5,10,15,20,25],'max_depth':[10,15,20,25,30,35]}\n",
    "grid_search_RF = GridSearchCV(clf_RF, grid_RF,cv=model_selection.KFold(n_splits=10,shuffle=True,random_state=1))\n",
    "grid_search_RF.fit(X_train_l, Y_train_l)"
   ]
  },
  {
   "cell_type": "code",
   "execution_count": 30,
   "metadata": {},
   "outputs": [
    {
     "data": {
      "text/plain": [
       "RandomForestClassifier(bootstrap=True, class_weight=None, criterion='entropy',\n",
       "            max_depth=10, max_features='auto', max_leaf_nodes=None,\n",
       "            min_impurity_decrease=0.0, min_impurity_split=None,\n",
       "            min_samples_leaf=1, min_samples_split=2,\n",
       "            min_weight_fraction_leaf=0.0, n_estimators=20, n_jobs=1,\n",
       "            oob_score=False, random_state=None, verbose=0,\n",
       "            warm_start=False)"
      ]
     },
     "execution_count": 30,
     "metadata": {},
     "output_type": "execute_result"
    }
   ],
   "source": [
    "grid_search_RF.best_estimator_"
   ]
  },
  {
   "cell_type": "code",
   "execution_count": 31,
   "metadata": {},
   "outputs": [
    {
     "name": "stdout",
     "output_type": "stream",
     "text": [
      "LR  0.80059970015\n",
      "KNN  0.770614692654\n",
      "SVM  0.821589205397\n",
      "DT  0.815592203898\n",
      "RF  0.8035982009\n"
     ]
    }
   ],
   "source": [
    "print(\"LR \", grid_search_LR.best_score_)\n",
    "print(\"KNN \", grid_search_KN.best_score_)\n",
    "print(\"SVM \", grid_search_SVC.best_score_)\n",
    "print(\"DT \", grid_search_DT.best_score_)\n",
    "print(\"RF \", grid_search_RF.best_score_)"
   ]
  }
 ],
 "metadata": {
  "kernelspec": {
   "display_name": "Python 3",
   "language": "python",
   "name": "python3"
  },
  "language_info": {
   "codemirror_mode": {
    "name": "ipython",
    "version": 3
   },
   "file_extension": ".py",
   "mimetype": "text/x-python",
   "name": "python",
   "nbconvert_exporter": "python",
   "pygments_lexer": "ipython3",
   "version": "3.6.1"
  }
 },
 "nbformat": 4,
 "nbformat_minor": 2
}
